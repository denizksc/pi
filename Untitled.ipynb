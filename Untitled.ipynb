{
 "cells": [
  {
   "cell_type": "code",
   "execution_count": 1,
   "id": "eeffa796-ce21-4acc-b8d2-2b7ccbdb91fc",
   "metadata": {
    "tags": []
   },
   "outputs": [],
   "source": [
    "import numpy as np\n",
    "import pandas as pd\n",
    "import seaborn as sns"
   ]
  },
  {
   "cell_type": "code",
   "execution_count": 2,
   "id": "92f8e55b-0ff2-4ec6-9877-a34647515c5d",
   "metadata": {
    "tags": []
   },
   "outputs": [],
   "source": [
    "df = pd.read_csv(\"dataset.csv\")"
   ]
  },
  {
   "cell_type": "code",
   "execution_count": 3,
   "id": "0c317925-38d1-49e8-a9dd-de441258c9c1",
   "metadata": {
    "tags": []
   },
   "outputs": [
    {
     "data": {
      "text/html": [
       "<div>\n",
       "<style scoped>\n",
       "    .dataframe tbody tr th:only-of-type {\n",
       "        vertical-align: middle;\n",
       "    }\n",
       "\n",
       "    .dataframe tbody tr th {\n",
       "        vertical-align: top;\n",
       "    }\n",
       "\n",
       "    .dataframe thead th {\n",
       "        text-align: right;\n",
       "    }\n",
       "</style>\n",
       "<table border=\"1\" class=\"dataframe\">\n",
       "  <thead>\n",
       "    <tr style=\"text-align: right;\">\n",
       "      <th></th>\n",
       "      <th>feature_1</th>\n",
       "      <th>feature_2</th>\n",
       "      <th>feature_3</th>\n",
       "      <th>feature_4</th>\n",
       "      <th>isVirus</th>\n",
       "    </tr>\n",
       "  </thead>\n",
       "  <tbody>\n",
       "    <tr>\n",
       "      <th>0</th>\n",
       "      <td>-0.233467</td>\n",
       "      <td>0.308799</td>\n",
       "      <td>2.484015</td>\n",
       "      <td>1.732721</td>\n",
       "      <td>False</td>\n",
       "    </tr>\n",
       "    <tr>\n",
       "      <th>1</th>\n",
       "      <td>1.519003</td>\n",
       "      <td>1.238482</td>\n",
       "      <td>3.344450</td>\n",
       "      <td>0.783744</td>\n",
       "      <td>False</td>\n",
       "    </tr>\n",
       "    <tr>\n",
       "      <th>2</th>\n",
       "      <td>0.400640</td>\n",
       "      <td>1.916748</td>\n",
       "      <td>3.291096</td>\n",
       "      <td>-0.918519</td>\n",
       "      <td>False</td>\n",
       "    </tr>\n",
       "    <tr>\n",
       "      <th>3</th>\n",
       "      <td>-1.616474</td>\n",
       "      <td>0.209703</td>\n",
       "      <td>1.461544</td>\n",
       "      <td>-0.291837</td>\n",
       "      <td>False</td>\n",
       "    </tr>\n",
       "    <tr>\n",
       "      <th>4</th>\n",
       "      <td>1.480515</td>\n",
       "      <td>5.299829</td>\n",
       "      <td>2.640670</td>\n",
       "      <td>1.867559</td>\n",
       "      <td>True</td>\n",
       "    </tr>\n",
       "    <tr>\n",
       "      <th>5</th>\n",
       "      <td>1.239941</td>\n",
       "      <td>5.364270</td>\n",
       "      <td>1.279281</td>\n",
       "      <td>0.938585</td>\n",
       "      <td>True</td>\n",
       "    </tr>\n",
       "    <tr>\n",
       "      <th>6</th>\n",
       "      <td>0.003583</td>\n",
       "      <td>-0.027756</td>\n",
       "      <td>3.048730</td>\n",
       "      <td>NaN</td>\n",
       "      <td>True</td>\n",
       "    </tr>\n",
       "    <tr>\n",
       "      <th>7</th>\n",
       "      <td>-0.286887</td>\n",
       "      <td>0.905702</td>\n",
       "      <td>1.924124</td>\n",
       "      <td>NaN</td>\n",
       "      <td>True</td>\n",
       "    </tr>\n",
       "    <tr>\n",
       "      <th>8</th>\n",
       "      <td>-0.898322</td>\n",
       "      <td>-1.198319</td>\n",
       "      <td>0.694305</td>\n",
       "      <td>0.802052</td>\n",
       "      <td>True</td>\n",
       "    </tr>\n",
       "    <tr>\n",
       "      <th>9</th>\n",
       "      <td>-1.084037</td>\n",
       "      <td>0.509091</td>\n",
       "      <td>2.268160</td>\n",
       "      <td>0.351780</td>\n",
       "      <td>True</td>\n",
       "    </tr>\n",
       "  </tbody>\n",
       "</table>\n",
       "</div>"
      ],
      "text/plain": [
       "   feature_1  feature_2  feature_3  feature_4  isVirus\n",
       "0  -0.233467   0.308799   2.484015   1.732721    False\n",
       "1   1.519003   1.238482   3.344450   0.783744    False\n",
       "2   0.400640   1.916748   3.291096  -0.918519    False\n",
       "3  -1.616474   0.209703   1.461544  -0.291837    False\n",
       "4   1.480515   5.299829   2.640670   1.867559     True\n",
       "5   1.239941   5.364270   1.279281   0.938585     True\n",
       "6   0.003583  -0.027756   3.048730        NaN     True\n",
       "7  -0.286887   0.905702   1.924124        NaN     True\n",
       "8  -0.898322  -1.198319   0.694305   0.802052     True\n",
       "9  -1.084037   0.509091   2.268160   0.351780     True"
      ]
     },
     "execution_count": 3,
     "metadata": {},
     "output_type": "execute_result"
    }
   ],
   "source": [
    "df.head(10)"
   ]
  },
  {
   "cell_type": "code",
   "execution_count": 4,
   "id": "3da45e2c-24fe-4bac-aa72-303cd6e2c69c",
   "metadata": {
    "tags": []
   },
   "outputs": [
    {
     "data": {
      "text/html": [
       "<div>\n",
       "<style scoped>\n",
       "    .dataframe tbody tr th:only-of-type {\n",
       "        vertical-align: middle;\n",
       "    }\n",
       "\n",
       "    .dataframe tbody tr th {\n",
       "        vertical-align: top;\n",
       "    }\n",
       "\n",
       "    .dataframe thead th {\n",
       "        text-align: right;\n",
       "    }\n",
       "</style>\n",
       "<table border=\"1\" class=\"dataframe\">\n",
       "  <thead>\n",
       "    <tr style=\"text-align: right;\">\n",
       "      <th></th>\n",
       "      <th>count</th>\n",
       "      <th>mean</th>\n",
       "      <th>std</th>\n",
       "      <th>min</th>\n",
       "      <th>25%</th>\n",
       "      <th>50%</th>\n",
       "      <th>75%</th>\n",
       "      <th>max</th>\n",
       "    </tr>\n",
       "  </thead>\n",
       "  <tbody>\n",
       "    <tr>\n",
       "      <th>feature_1</th>\n",
       "      <td>1897.0</td>\n",
       "      <td>0.814404</td>\n",
       "      <td>1.729538</td>\n",
       "      <td>-2.285499</td>\n",
       "      <td>-0.556433</td>\n",
       "      <td>0.084789</td>\n",
       "      <td>2.270955</td>\n",
       "      <td>5.929096</td>\n",
       "    </tr>\n",
       "    <tr>\n",
       "      <th>feature_2</th>\n",
       "      <td>1899.0</td>\n",
       "      <td>1.795843</td>\n",
       "      <td>1.605611</td>\n",
       "      <td>-7.363119</td>\n",
       "      <td>0.975148</td>\n",
       "      <td>1.881904</td>\n",
       "      <td>2.840511</td>\n",
       "      <td>7.549658</td>\n",
       "    </tr>\n",
       "    <tr>\n",
       "      <th>feature_3</th>\n",
       "      <td>1893.0</td>\n",
       "      <td>2.621096</td>\n",
       "      <td>1.474973</td>\n",
       "      <td>-5.363119</td>\n",
       "      <td>1.671905</td>\n",
       "      <td>2.499623</td>\n",
       "      <td>3.470200</td>\n",
       "      <td>9.549658</td>\n",
       "    </tr>\n",
       "    <tr>\n",
       "      <th>feature_4</th>\n",
       "      <td>1897.0</td>\n",
       "      <td>0.807499</td>\n",
       "      <td>1.768597</td>\n",
       "      <td>-3.006499</td>\n",
       "      <td>-0.563357</td>\n",
       "      <td>0.021857</td>\n",
       "      <td>2.319822</td>\n",
       "      <td>5.759355</td>\n",
       "    </tr>\n",
       "  </tbody>\n",
       "</table>\n",
       "</div>"
      ],
      "text/plain": [
       "            count      mean       std       min       25%       50%       75%  \\\n",
       "feature_1  1897.0  0.814404  1.729538 -2.285499 -0.556433  0.084789  2.270955   \n",
       "feature_2  1899.0  1.795843  1.605611 -7.363119  0.975148  1.881904  2.840511   \n",
       "feature_3  1893.0  2.621096  1.474973 -5.363119  1.671905  2.499623  3.470200   \n",
       "feature_4  1897.0  0.807499  1.768597 -3.006499 -0.563357  0.021857  2.319822   \n",
       "\n",
       "                max  \n",
       "feature_1  5.929096  \n",
       "feature_2  7.549658  \n",
       "feature_3  9.549658  \n",
       "feature_4  5.759355  "
      ]
     },
     "execution_count": 4,
     "metadata": {},
     "output_type": "execute_result"
    }
   ],
   "source": [
    "df.describe().T"
   ]
  },
  {
   "cell_type": "code",
   "execution_count": 5,
   "id": "38793996-e98c-4511-a17c-a795c916c0f6",
   "metadata": {
    "tags": []
   },
   "outputs": [
    {
     "data": {
      "text/plain": [
       "feature_1    102\n",
       "feature_2    100\n",
       "feature_3    106\n",
       "feature_4    102\n",
       "isVirus        0\n",
       "dtype: int64"
      ]
     },
     "execution_count": 5,
     "metadata": {},
     "output_type": "execute_result"
    }
   ],
   "source": [
    "df.isnull().sum()"
   ]
  },
  {
   "cell_type": "code",
   "execution_count": 6,
   "id": "174c61fc-4c6f-4968-bd22-65698e651b84",
   "metadata": {
    "tags": []
   },
   "outputs": [
    {
     "data": {
      "text/plain": [
       "(1999, 5)"
      ]
     },
     "execution_count": 6,
     "metadata": {},
     "output_type": "execute_result"
    }
   ],
   "source": [
    "df.shape"
   ]
  },
  {
   "cell_type": "code",
   "execution_count": 7,
   "id": "6322a8b5-f10b-46d0-bb24-25b66262efcd",
   "metadata": {
    "tags": []
   },
   "outputs": [
    {
     "data": {
      "text/plain": [
       "isVirus\n",
       "False    1.352241\n",
       "True    -0.262122\n",
       "Name: feature_1, dtype: float64"
      ]
     },
     "execution_count": 7,
     "metadata": {},
     "output_type": "execute_result"
    }
   ],
   "source": [
    "df.groupby(\"isVirus\")[\"feature_1\"].mean()"
   ]
  },
  {
   "cell_type": "code",
   "execution_count": 8,
   "id": "1dced19c-8726-4266-8b16-ac8b9f2605fd",
   "metadata": {
    "tags": []
   },
   "outputs": [
    {
     "data": {
      "text/plain": [
       "isVirus\n",
       "False    2.107789\n",
       "True     1.173426\n",
       "Name: feature_2, dtype: float64"
      ]
     },
     "execution_count": 8,
     "metadata": {},
     "output_type": "execute_result"
    }
   ],
   "source": [
    "df.groupby(\"isVirus\")[\"feature_2\"].mean()"
   ]
  },
  {
   "cell_type": "code",
   "execution_count": 9,
   "id": "9ba3e6ad-de92-4f32-bdb7-0294c6fc0f81",
   "metadata": {
    "tags": []
   },
   "outputs": [
    {
     "data": {
      "text/plain": [
       "isVirus\n",
       "False    2.740450\n",
       "True     2.380677\n",
       "Name: feature_3, dtype: float64"
      ]
     },
     "execution_count": 9,
     "metadata": {},
     "output_type": "execute_result"
    }
   ],
   "source": [
    "df.groupby(\"isVirus\")[\"feature_3\"].mean()"
   ]
  },
  {
   "cell_type": "code",
   "execution_count": 10,
   "id": "5077443e-5afc-40e7-80b7-327c5d5b16bf",
   "metadata": {
    "tags": []
   },
   "outputs": [
    {
     "data": {
      "text/plain": [
       "isVirus\n",
       "False    1.354239\n",
       "True    -0.286848\n",
       "Name: feature_4, dtype: float64"
      ]
     },
     "execution_count": 10,
     "metadata": {},
     "output_type": "execute_result"
    }
   ],
   "source": [
    "df.groupby(\"isVirus\")[\"feature_4\"].mean()"
   ]
  },
  {
   "cell_type": "code",
   "execution_count": 11,
   "id": "c05c222b-ab1e-40f8-a9db-2734113ce9c2",
   "metadata": {
    "tags": []
   },
   "outputs": [],
   "source": [
    "df[\"feature_1\"] = df[\"feature_1\"].fillna(df.groupby(\"isVirus\")[\"feature_1\"].transform(\"mean\"))\n",
    "df[\"feature_2\"] = df[\"feature_2\"].fillna(df.groupby(\"isVirus\")[\"feature_2\"].transform(\"mean\"))\n",
    "df[\"feature_3\"] = df[\"feature_3\"].fillna(df.groupby(\"isVirus\")[\"feature_3\"].transform(\"mean\"))\n",
    "df[\"feature_4\"] = df[\"feature_4\"].fillna(df.groupby(\"isVirus\")[\"feature_4\"].transform(\"mean\"))"
   ]
  },
  {
   "cell_type": "code",
   "execution_count": 12,
   "id": "15b0e1ea-c06d-47b9-b6b5-f882b6019b72",
   "metadata": {
    "tags": []
   },
   "outputs": [
    {
     "data": {
      "text/plain": [
       "feature_1    0\n",
       "feature_2    0\n",
       "feature_3    0\n",
       "feature_4    0\n",
       "isVirus      0\n",
       "dtype: int64"
      ]
     },
     "execution_count": 12,
     "metadata": {},
     "output_type": "execute_result"
    }
   ],
   "source": [
    "df.isnull().sum()"
   ]
  },
  {
   "cell_type": "code",
   "execution_count": 13,
   "id": "4265fba0-bd73-4147-882c-185867fa01cc",
   "metadata": {
    "tags": []
   },
   "outputs": [],
   "source": [
    "df[\"isVirus\"] = df[\"isVirus\"].astype(int)"
   ]
  },
  {
   "cell_type": "code",
   "execution_count": 14,
   "id": "6f610a32-f13e-42bd-b968-5981b7da9620",
   "metadata": {},
   "outputs": [
    {
     "data": {
      "text/html": [
       "<div>\n",
       "<style scoped>\n",
       "    .dataframe tbody tr th:only-of-type {\n",
       "        vertical-align: middle;\n",
       "    }\n",
       "\n",
       "    .dataframe tbody tr th {\n",
       "        vertical-align: top;\n",
       "    }\n",
       "\n",
       "    .dataframe thead th {\n",
       "        text-align: right;\n",
       "    }\n",
       "</style>\n",
       "<table border=\"1\" class=\"dataframe\">\n",
       "  <thead>\n",
       "    <tr style=\"text-align: right;\">\n",
       "      <th></th>\n",
       "      <th>feature_1</th>\n",
       "      <th>feature_2</th>\n",
       "      <th>feature_3</th>\n",
       "      <th>feature_4</th>\n",
       "      <th>isVirus</th>\n",
       "    </tr>\n",
       "  </thead>\n",
       "  <tbody>\n",
       "    <tr>\n",
       "      <th>0</th>\n",
       "      <td>-0.233467</td>\n",
       "      <td>0.308799</td>\n",
       "      <td>2.484015</td>\n",
       "      <td>1.732721</td>\n",
       "      <td>0</td>\n",
       "    </tr>\n",
       "    <tr>\n",
       "      <th>1</th>\n",
       "      <td>1.519003</td>\n",
       "      <td>1.238482</td>\n",
       "      <td>3.344450</td>\n",
       "      <td>0.783744</td>\n",
       "      <td>0</td>\n",
       "    </tr>\n",
       "    <tr>\n",
       "      <th>2</th>\n",
       "      <td>0.400640</td>\n",
       "      <td>1.916748</td>\n",
       "      <td>3.291096</td>\n",
       "      <td>-0.918519</td>\n",
       "      <td>0</td>\n",
       "    </tr>\n",
       "    <tr>\n",
       "      <th>3</th>\n",
       "      <td>-1.616474</td>\n",
       "      <td>0.209703</td>\n",
       "      <td>1.461544</td>\n",
       "      <td>-0.291837</td>\n",
       "      <td>0</td>\n",
       "    </tr>\n",
       "    <tr>\n",
       "      <th>4</th>\n",
       "      <td>1.480515</td>\n",
       "      <td>5.299829</td>\n",
       "      <td>2.640670</td>\n",
       "      <td>1.867559</td>\n",
       "      <td>1</td>\n",
       "    </tr>\n",
       "  </tbody>\n",
       "</table>\n",
       "</div>"
      ],
      "text/plain": [
       "   feature_1  feature_2  feature_3  feature_4  isVirus\n",
       "0  -0.233467   0.308799   2.484015   1.732721        0\n",
       "1   1.519003   1.238482   3.344450   0.783744        0\n",
       "2   0.400640   1.916748   3.291096  -0.918519        0\n",
       "3  -1.616474   0.209703   1.461544  -0.291837        0\n",
       "4   1.480515   5.299829   2.640670   1.867559        1"
      ]
     },
     "execution_count": 14,
     "metadata": {},
     "output_type": "execute_result"
    }
   ],
   "source": [
    "df.head()"
   ]
  },
  {
   "cell_type": "code",
   "execution_count": 15,
   "id": "574496b1-5836-4201-aefe-80f326672f94",
   "metadata": {
    "tags": []
   },
   "outputs": [
    {
     "data": {
      "text/plain": [
       "<AxesSubplot:xlabel='feature_2'>"
      ]
     },
     "execution_count": 15,
     "metadata": {},
     "output_type": "execute_result"
    },
    {
     "data": {
      "image/png": "[encoded data removed]",
      "text/plain": [
       "<Figure size 640x480 with 1 Axes>"
      ]
     },
     "metadata": {},
     "output_type": "display_data"
    }
   ],
   "source": [
    "sns.boxplot( x = df[\"feature_2\"])"
   ]
  },
  {
   "cell_type": "code",
   "execution_count": 16,
   "id": "1edd6762-ffab-48fc-a368-ff2ef9911783",
   "metadata": {
    "tags": []
   },
   "outputs": [
    {
     "data": {
      "text/plain": [
       "<AxesSubplot:xlabel='feature_3'>"
      ]
     },
     "execution_count": 16,
     "metadata": {},
     "output_type": "execute_result"
    },
    {
     "data": {
      "image/png": "[encoded data removed]",
      "text/plain": [
       "<Figure size 640x480 with 1 Axes>"
      ]
     },
     "metadata": {},
     "output_type": "display_data"
    }
   ],
   "source": [
    "sns.boxplot( x = df[\"feature_3\"])"
   ]
  },
  {
   "cell_type": "code",
   "execution_count": 17,
   "id": "a9ba19ac-a918-4f00-9c01-ae29741f4803",
   "metadata": {
    "tags": []
   },
   "outputs": [
    {
     "data": {
      "text/plain": [
       "<AxesSubplot:>"
      ]
     },
     "execution_count": 17,
     "metadata": {},
     "output_type": "execute_result"
    },
    {
     "data": {
      "image/png": "[encoded data removed]",
      "text/plain": [
       "<Figure size 640x480 with 2 Axes>"
      ]
     },
     "metadata": {},
     "output_type": "display_data"
    }
   ],
   "source": [
    "sns.heatmap(df.corr(), annot = True, linewidths = 2) #heatmap"
   ]
  },
  {
   "cell_type": "code",
   "execution_count": 18,
   "id": "b468c1ab-7abb-4fdf-9e08-3c887fc57c6d",
   "metadata": {
    "tags": []
   },
   "outputs": [
    {
     "data": {
      "text/plain": [
       "<AxesSubplot:xlabel='isVirus', ylabel='feature_1'>"
      ]
     },
     "execution_count": 18,
     "metadata": {},
     "output_type": "execute_result"
    },
    {
     "data": {
      "image/png": "[encoded data removed]",
      "text/plain": [
       "<Figure size 640x480 with 1 Axes>"
      ]
     },
     "metadata": {},
     "output_type": "display_data"
    }
   ],
   "source": [
    "sns.boxplot(x = \"isVirus\", y = \"feature_1\", data=df)"
   ]
  },
  {
   "cell_type": "code",
   "execution_count": 19,
   "id": "782fbf83-a641-4aaf-95e2-a649c77b0101",
   "metadata": {
    "tags": []
   },
   "outputs": [
    {
     "data": {
      "image/png": "[encoded data removed]",
      "text/plain": [
       "<Figure size 640x480 with 1 Axes>"
      ]
     },
     "metadata": {},
     "output_type": "display_data"
    }
   ],
   "source": [
    "import matplotlib.pyplot as plt\n",
    "sns.scatterplot(x='feature_1', y='feature_2', hue='isVirus', data= df, palette='Dark2', s=80)\n",
    "plt.show()"
   ]
  },
  {
   "cell_type": "code",
   "execution_count": 20,
   "id": "dc8062fe-16c8-49d4-97b2-1386588f189c",
   "metadata": {
    "tags": []
   },
   "outputs": [],
   "source": [
    "from sklearn.neighbors import LocalOutlierFactor"
   ]
  },
  {
   "cell_type": "code",
   "execution_count": 21,
   "id": "4c1f8d75-06ce-4982-a7a3-764c4953ea07",
   "metadata": {
    "tags": []
   },
   "outputs": [],
   "source": [
    "clf = LocalOutlierFactor(n_neighbors = 20, contamination = 0.1)"
   ]
  },
  {
   "cell_type": "code",
   "execution_count": 22,
   "id": "5fc96a34-4ebe-4286-908d-ff0ef9b70471",
   "metadata": {
    "tags": []
   },
   "outputs": [
    {
     "data": {
      "text/plain": [
       "array([1, 1, 1, ..., 1, 1, 1])"
      ]
     },
     "execution_count": 22,
     "metadata": {},
     "output_type": "execute_result"
    }
   ],
   "source": [
    "clf.fit_predict(df)"
   ]
  },
  {
   "cell_type": "code",
   "execution_count": 23,
   "id": "ea35fcc4-6eb3-44e4-aad1-3cf72576930a",
   "metadata": {
    "tags": []
   },
   "outputs": [],
   "source": [
    "df_scores = clf.negative_outlier_factor_"
   ]
  },
  {
   "cell_type": "code",
   "execution_count": 24,
   "id": "6396a686-522b-4d85-a825-a42063f09f99",
   "metadata": {
    "tags": []
   },
   "outputs": [
    {
     "data": {
      "text/plain": [
       "array([-1.02548295, -1.04602385, -1.12599273, -1.41894294, -1.26617274,\n",
       "       -1.20412161, -1.28160914, -0.98126297, -1.26605063, -1.29307514])"
      ]
     },
     "execution_count": 24,
     "metadata": {},
     "output_type": "execute_result"
    }
   ],
   "source": [
    "df_scores[0:10]"
   ]
  },
  {
   "cell_type": "code",
   "execution_count": 25,
   "id": "aabd4aec-cdb4-40fd-9496-f73d5599d0fc",
   "metadata": {
    "tags": []
   },
   "outputs": [
    {
     "data": {
      "text/plain": [
       "array([-4.10594952, -2.43969239, -2.18727147, -2.12603629, -1.93549073,\n",
       "       -1.9032261 , -1.87021805, -1.8055464 , -1.78854318, -1.77388089,\n",
       "       -1.7480712 , -1.74045123, -1.71213441, -1.70994313, -1.7070857 ,\n",
       "       -1.68211075, -1.6710435 , -1.65555088, -1.63392478, -1.63325775,\n",
       "       -1.62288494, -1.61265666, -1.61089644, -1.60658696, -1.60535692,\n",
       "       -1.59043664, -1.57266272, -1.57000724, -1.5513839 , -1.54017092])"
      ]
     },
     "execution_count": 25,
     "metadata": {},
     "output_type": "execute_result"
    }
   ],
   "source": [
    "np.sort(df_scores)[0:30]"
   ]
  },
  {
   "cell_type": "code",
   "execution_count": 26,
   "id": "611786d4-b7c4-465f-a92d-b7d32898e351",
   "metadata": {
    "tags": []
   },
   "outputs": [],
   "source": [
    "esik_deger = np.sort(df_scores)[1]"
   ]
  },
  {
   "cell_type": "code",
   "execution_count": 27,
   "id": "e5997d7f-3ac6-4d59-b515-2ac38b35529b",
   "metadata": {
    "tags": []
   },
   "outputs": [],
   "source": [
    "aykiri_tf = df_scores < esik_deger"
   ]
  },
  {
   "cell_type": "code",
   "execution_count": 28,
   "id": "47c35f8c-8f5a-49fb-8dd9-940b1eda5e22",
   "metadata": {
    "tags": []
   },
   "outputs": [
    {
     "data": {
      "text/plain": [
       "array([False, False, False, ..., False, False, False])"
      ]
     },
     "execution_count": 28,
     "metadata": {},
     "output_type": "execute_result"
    }
   ],
   "source": [
    "aykiri_tf"
   ]
  },
  {
   "cell_type": "code",
   "execution_count": 29,
   "id": "2529daeb-4f54-4145-a1f9-6e3eac19a42b",
   "metadata": {
    "tags": []
   },
   "outputs": [],
   "source": [
    "yeni_df = df[aykiri_tf]"
   ]
  },
  {
   "cell_type": "code",
   "execution_count": 30,
   "id": "9e5e0857-a5f2-4367-9860-7ad02b8c6458",
   "metadata": {
    "tags": []
   },
   "outputs": [
    {
     "data": {
      "text/html": [
       "<div>\n",
       "<style scoped>\n",
       "    .dataframe tbody tr th:only-of-type {\n",
       "        vertical-align: middle;\n",
       "    }\n",
       "\n",
       "    .dataframe tbody tr th {\n",
       "        vertical-align: top;\n",
       "    }\n",
       "\n",
       "    .dataframe thead th {\n",
       "        text-align: right;\n",
       "    }\n",
       "</style>\n",
       "<table border=\"1\" class=\"dataframe\">\n",
       "  <thead>\n",
       "    <tr style=\"text-align: right;\">\n",
       "      <th></th>\n",
       "      <th>feature_1</th>\n",
       "      <th>feature_2</th>\n",
       "      <th>feature_3</th>\n",
       "      <th>feature_4</th>\n",
       "      <th>isVirus</th>\n",
       "    </tr>\n",
       "  </thead>\n",
       "  <tbody>\n",
       "    <tr>\n",
       "      <th>679</th>\n",
       "      <td>-0.855662</td>\n",
       "      <td>2.188423</td>\n",
       "      <td>-5.363119</td>\n",
       "      <td>-0.128383</td>\n",
       "      <td>1</td>\n",
       "    </tr>\n",
       "  </tbody>\n",
       "</table>\n",
       "</div>"
      ],
      "text/plain": [
       "     feature_1  feature_2  feature_3  feature_4  isVirus\n",
       "679  -0.855662   2.188423  -5.363119  -0.128383        1"
      ]
     },
     "execution_count": 30,
     "metadata": {},
     "output_type": "execute_result"
    }
   ],
   "source": [
    "yeni_df"
   ]
  },
  {
   "cell_type": "code",
   "execution_count": 31,
   "id": "80a0b23a-2749-4263-8c53-0efe369bbbc5",
   "metadata": {
    "tags": []
   },
   "outputs": [],
   "source": [
    "baski_degeri = df[df_scores == esik_deger]"
   ]
  },
  {
   "cell_type": "code",
   "execution_count": 32,
   "id": "bfdf72d0-0cff-440a-a0ec-2f644e19c681",
   "metadata": {
    "tags": []
   },
   "outputs": [],
   "source": [
    "res = yeni_df.to_records(index=False)"
   ]
  },
  {
   "cell_type": "code",
   "execution_count": 33,
   "id": "a21bc5ea-d7f7-443c-bd67-bd4eecfa51c0",
   "metadata": {
    "tags": []
   },
   "outputs": [],
   "source": [
    "res[:] = baski_degeri.to_records(index=False)"
   ]
  },
  {
   "cell_type": "code",
   "execution_count": 34,
   "id": "e1149f11-da69-47bc-aed7-49fe8582a55d",
   "metadata": {
    "tags": []
   },
   "outputs": [
    {
     "data": {
      "text/plain": [
       "rec.array([(0.9735768, -7.36311927, 1.20471508, 1.17515539, 1)],\n",
       "          dtype=[('feature_1', '<f8'), ('feature_2', '<f8'), ('feature_3', '<f8'), ('feature_4', '<f8'), ('isVirus', '<i4')])"
      ]
     },
     "execution_count": 34,
     "metadata": {},
     "output_type": "execute_result"
    }
   ],
   "source": [
    "res"
   ]
  },
  {
   "cell_type": "code",
   "execution_count": 35,
   "id": "27d6468c-4897-493c-aed6-0405a99b8af6",
   "metadata": {
    "tags": []
   },
   "outputs": [],
   "source": [
    "df[aykiri_tf] = pd.DataFrame(res, index = df[aykiri_tf].index)"
   ]
  },
  {
   "cell_type": "code",
   "execution_count": 36,
   "id": "08f1970f-8c68-418c-8c8d-25ffc8f430c4",
   "metadata": {
    "tags": []
   },
   "outputs": [
    {
     "data": {
      "text/html": [
       "<div>\n",
       "<style scoped>\n",
       "    .dataframe tbody tr th:only-of-type {\n",
       "        vertical-align: middle;\n",
       "    }\n",
       "\n",
       "    .dataframe tbody tr th {\n",
       "        vertical-align: top;\n",
       "    }\n",
       "\n",
       "    .dataframe thead th {\n",
       "        text-align: right;\n",
       "    }\n",
       "</style>\n",
       "<table border=\"1\" class=\"dataframe\">\n",
       "  <thead>\n",
       "    <tr style=\"text-align: right;\">\n",
       "      <th></th>\n",
       "      <th>feature_1</th>\n",
       "      <th>feature_2</th>\n",
       "      <th>feature_3</th>\n",
       "      <th>feature_4</th>\n",
       "      <th>isVirus</th>\n",
       "    </tr>\n",
       "  </thead>\n",
       "  <tbody>\n",
       "    <tr>\n",
       "      <th>679</th>\n",
       "      <td>0.973577</td>\n",
       "      <td>-7.363119</td>\n",
       "      <td>1.204715</td>\n",
       "      <td>1.175155</td>\n",
       "      <td>1</td>\n",
       "    </tr>\n",
       "  </tbody>\n",
       "</table>\n",
       "</div>"
      ],
      "text/plain": [
       "     feature_1  feature_2  feature_3  feature_4  isVirus\n",
       "679   0.973577  -7.363119   1.204715   1.175155        1"
      ]
     },
     "execution_count": 36,
     "metadata": {},
     "output_type": "execute_result"
    }
   ],
   "source": [
    "df[aykiri_tf]"
   ]
  },
  {
   "cell_type": "code",
   "execution_count": 37,
   "id": "7f24b872-afc0-469c-abc9-e126f700260c",
   "metadata": {
    "tags": []
   },
   "outputs": [
    {
     "data": {
      "text/html": [
       "<div>\n",
       "<style scoped>\n",
       "    .dataframe tbody tr th:only-of-type {\n",
       "        vertical-align: middle;\n",
       "    }\n",
       "\n",
       "    .dataframe tbody tr th {\n",
       "        vertical-align: top;\n",
       "    }\n",
       "\n",
       "    .dataframe thead th {\n",
       "        text-align: right;\n",
       "    }\n",
       "</style>\n",
       "<table border=\"1\" class=\"dataframe\">\n",
       "  <thead>\n",
       "    <tr style=\"text-align: right;\">\n",
       "      <th></th>\n",
       "      <th>feature_1</th>\n",
       "      <th>feature_2</th>\n",
       "      <th>feature_3</th>\n",
       "      <th>feature_4</th>\n",
       "      <th>isVirus</th>\n",
       "    </tr>\n",
       "  </thead>\n",
       "  <tbody>\n",
       "    <tr>\n",
       "      <th>0</th>\n",
       "      <td>-0.233467</td>\n",
       "      <td>0.308799</td>\n",
       "      <td>2.484015</td>\n",
       "      <td>1.732721</td>\n",
       "      <td>0</td>\n",
       "    </tr>\n",
       "    <tr>\n",
       "      <th>1</th>\n",
       "      <td>1.519003</td>\n",
       "      <td>1.238482</td>\n",
       "      <td>3.344450</td>\n",
       "      <td>0.783744</td>\n",
       "      <td>0</td>\n",
       "    </tr>\n",
       "    <tr>\n",
       "      <th>2</th>\n",
       "      <td>0.400640</td>\n",
       "      <td>1.916748</td>\n",
       "      <td>3.291096</td>\n",
       "      <td>-0.918519</td>\n",
       "      <td>0</td>\n",
       "    </tr>\n",
       "    <tr>\n",
       "      <th>3</th>\n",
       "      <td>-1.616474</td>\n",
       "      <td>0.209703</td>\n",
       "      <td>1.461544</td>\n",
       "      <td>-0.291837</td>\n",
       "      <td>0</td>\n",
       "    </tr>\n",
       "    <tr>\n",
       "      <th>4</th>\n",
       "      <td>1.480515</td>\n",
       "      <td>5.299829</td>\n",
       "      <td>2.640670</td>\n",
       "      <td>1.867559</td>\n",
       "      <td>1</td>\n",
       "    </tr>\n",
       "    <tr>\n",
       "      <th>...</th>\n",
       "      <td>...</td>\n",
       "      <td>...</td>\n",
       "      <td>...</td>\n",
       "      <td>...</td>\n",
       "      <td>...</td>\n",
       "    </tr>\n",
       "    <tr>\n",
       "      <th>1994</th>\n",
       "      <td>2.532559</td>\n",
       "      <td>2.139847</td>\n",
       "      <td>3.859104</td>\n",
       "      <td>2.190373</td>\n",
       "      <td>0</td>\n",
       "    </tr>\n",
       "    <tr>\n",
       "      <th>1995</th>\n",
       "      <td>1.352241</td>\n",
       "      <td>3.562990</td>\n",
       "      <td>2.740450</td>\n",
       "      <td>2.499590</td>\n",
       "      <td>0</td>\n",
       "    </tr>\n",
       "    <tr>\n",
       "      <th>1996</th>\n",
       "      <td>4.059027</td>\n",
       "      <td>1.977436</td>\n",
       "      <td>2.144760</td>\n",
       "      <td>4.257220</td>\n",
       "      <td>0</td>\n",
       "    </tr>\n",
       "    <tr>\n",
       "      <th>1997</th>\n",
       "      <td>3.457310</td>\n",
       "      <td>3.962342</td>\n",
       "      <td>3.770837</td>\n",
       "      <td>3.243168</td>\n",
       "      <td>0</td>\n",
       "    </tr>\n",
       "    <tr>\n",
       "      <th>1998</th>\n",
       "      <td>3.578521</td>\n",
       "      <td>3.349654</td>\n",
       "      <td>2.740450</td>\n",
       "      <td>1.562209</td>\n",
       "      <td>0</td>\n",
       "    </tr>\n",
       "  </tbody>\n",
       "</table>\n",
       "<p>1999 rows × 5 columns</p>\n",
       "</div>"
      ],
      "text/plain": [
       "      feature_1  feature_2  feature_3  feature_4  isVirus\n",
       "0     -0.233467   0.308799   2.484015   1.732721        0\n",
       "1      1.519003   1.238482   3.344450   0.783744        0\n",
       "2      0.400640   1.916748   3.291096  -0.918519        0\n",
       "3     -1.616474   0.209703   1.461544  -0.291837        0\n",
       "4      1.480515   5.299829   2.640670   1.867559        1\n",
       "...         ...        ...        ...        ...      ...\n",
       "1994   2.532559   2.139847   3.859104   2.190373        0\n",
       "1995   1.352241   3.562990   2.740450   2.499590        0\n",
       "1996   4.059027   1.977436   2.144760   4.257220        0\n",
       "1997   3.457310   3.962342   3.770837   3.243168        0\n",
       "1998   3.578521   3.349654   2.740450   1.562209        0\n",
       "\n",
       "[1999 rows x 5 columns]"
      ]
     },
     "execution_count": 37,
     "metadata": {},
     "output_type": "execute_result"
    }
   ],
   "source": [
    "df"
   ]
  },
  {
   "cell_type": "code",
   "execution_count": 38,
   "id": "063158bf-4b1b-4c37-9b96-274c5a5463bd",
   "metadata": {
    "tags": []
   },
   "outputs": [],
   "source": [
    "from sklearn.ensemble import RandomForestClassifier\n",
    "from sklearn.metrics import accuracy_score, confusion_matrix, precision_score, recall_score, ConfusionMatrixDisplay\n",
    "from sklearn.model_selection import RandomizedSearchCV, train_test_split\n",
    "from scipy.stats import randint"
   ]
  },
  {
   "cell_type": "code",
   "execution_count": 39,
   "id": "4dfc0e98-6326-4c10-a6a4-816c2367d512",
   "metadata": {
    "tags": []
   },
   "outputs": [],
   "source": [
    "# Split the data into features (X) and target (y)\n",
    "X = df.drop('isVirus', axis=1)\n",
    "y = df['isVirus']\n",
    "\n",
    "# Split the data into training and test sets\n",
    "X_train, X_test, y_train, y_test = train_test_split(X, y, test_size=0.2)"
   ]
  },
  {
   "cell_type": "code",
   "execution_count": 40,
   "id": "04c0af5f-edfb-4b30-b57a-2929f12fe1c2",
   "metadata": {
    "tags": []
   },
   "outputs": [
    {
     "data": {
      "text/plain": [
       "RandomForestClassifier()"
      ]
     },
     "execution_count": 40,
     "metadata": {},
     "output_type": "execute_result"
    }
   ],
   "source": [
    "rf = RandomForestClassifier()\n",
    "rf.fit(X_train, y_train)"
   ]
  },
  {
   "cell_type": "code",
   "execution_count": 41,
   "id": "25f8ae75-2187-404d-9a0e-56cbd9b36469",
   "metadata": {
    "tags": []
   },
   "outputs": [],
   "source": [
    "y_pred = rf.predict(X_test)"
   ]
  },
  {
   "cell_type": "code",
   "execution_count": 42,
   "id": "33df534e-abb0-46d7-aabd-b714f5d4d6b3",
   "metadata": {
    "tags": []
   },
   "outputs": [
    {
     "name": "stdout",
     "output_type": "stream",
     "text": [
      "Accuracy: 0.9025\n"
     ]
    }
   ],
   "source": [
    "accuracy = accuracy_score(y_test, y_pred)\n",
    "print(\"Accuracy:\", accuracy)\n"
   ]
  },
  {
   "cell_type": "code",
   "execution_count": null,
   "id": "50d8652a-f94b-4426-a7b7-fd55f0352e30",
   "metadata": {},
   "outputs": [],
   "source": []
  }
 ],
 "metadata": {
  "kernelspec": {
   "display_name": "Python 3 (ipykernel)",
   "language": "python",
   "name": "python3"
  },
  "language_info": {
   "codemirror_mode": {
    "name": "ipython",
    "version": 3
   },
   "file_extension": ".py",
   "mimetype": "text/x-python",
   "name": "python",
   "nbconvert_exporter": "python",
   "pygments_lexer": "ipython3",
   "version": "3.9.13"
  }
 },
 "nbformat": 4,
 "nbformat_minor": 5
}
